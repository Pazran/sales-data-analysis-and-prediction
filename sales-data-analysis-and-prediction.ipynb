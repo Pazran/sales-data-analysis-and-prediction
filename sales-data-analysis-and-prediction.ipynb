{
 "cells": [
  {
   "cell_type": "code",
   "execution_count": 1,
   "id": "ca050bfd-832e-43e8-8f20-3c0d019b2711",
   "metadata": {},
   "outputs": [],
   "source": [
    "import pandas as pd\n",
    "import numpy as np\n",
    "import seaborn as sns\n",
    "import matplotlib.pyplot as plt"
   ]
  },
  {
   "cell_type": "code",
   "execution_count": 2,
   "id": "32b3b0d0-509c-43d1-a2ef-cf9fcb6abe29",
   "metadata": {},
   "outputs": [],
   "source": [
    "df = pd.read_csv('Sales-Data.csv')"
   ]
  },
  {
   "cell_type": "code",
   "execution_count": 3,
   "id": "da96739d-8f8a-406b-a8fb-2c689265990b",
   "metadata": {},
   "outputs": [
    {
     "data": {
      "text/html": [
       "<div>\n",
       "<style scoped>\n",
       "    .dataframe tbody tr th:only-of-type {\n",
       "        vertical-align: middle;\n",
       "    }\n",
       "\n",
       "    .dataframe tbody tr th {\n",
       "        vertical-align: top;\n",
       "    }\n",
       "\n",
       "    .dataframe thead th {\n",
       "        text-align: right;\n",
       "    }\n",
       "</style>\n",
       "<table border=\"1\" class=\"dataframe\">\n",
       "  <thead>\n",
       "    <tr style=\"text-align: right;\">\n",
       "      <th></th>\n",
       "      <th>Unnamed: 0</th>\n",
       "      <th>Order ID</th>\n",
       "      <th>Product</th>\n",
       "      <th>Quantity Ordered</th>\n",
       "      <th>Price Each</th>\n",
       "      <th>Order Date</th>\n",
       "      <th>Purchase Address</th>\n",
       "      <th>Month</th>\n",
       "      <th>Sales</th>\n",
       "      <th>City</th>\n",
       "      <th>Hour</th>\n",
       "    </tr>\n",
       "  </thead>\n",
       "  <tbody>\n",
       "    <tr>\n",
       "      <th>0</th>\n",
       "      <td>0</td>\n",
       "      <td>295665</td>\n",
       "      <td>Macbook Pro Laptop</td>\n",
       "      <td>1</td>\n",
       "      <td>1700.00</td>\n",
       "      <td>2019-12-30 00:01:00</td>\n",
       "      <td>136 Church St, New York City, NY 10001</td>\n",
       "      <td>12</td>\n",
       "      <td>1700.00</td>\n",
       "      <td>New York City</td>\n",
       "      <td>0</td>\n",
       "    </tr>\n",
       "    <tr>\n",
       "      <th>1</th>\n",
       "      <td>1</td>\n",
       "      <td>295666</td>\n",
       "      <td>LG Washing Machine</td>\n",
       "      <td>1</td>\n",
       "      <td>600.00</td>\n",
       "      <td>2019-12-29 07:03:00</td>\n",
       "      <td>562 2nd St, New York City, NY 10001</td>\n",
       "      <td>12</td>\n",
       "      <td>600.00</td>\n",
       "      <td>New York City</td>\n",
       "      <td>7</td>\n",
       "    </tr>\n",
       "    <tr>\n",
       "      <th>2</th>\n",
       "      <td>2</td>\n",
       "      <td>295667</td>\n",
       "      <td>USB-C Charging Cable</td>\n",
       "      <td>1</td>\n",
       "      <td>11.95</td>\n",
       "      <td>2019-12-12 18:21:00</td>\n",
       "      <td>277 Main St, New York City, NY 10001</td>\n",
       "      <td>12</td>\n",
       "      <td>11.95</td>\n",
       "      <td>New York City</td>\n",
       "      <td>18</td>\n",
       "    </tr>\n",
       "    <tr>\n",
       "      <th>3</th>\n",
       "      <td>3</td>\n",
       "      <td>295668</td>\n",
       "      <td>27in FHD Monitor</td>\n",
       "      <td>1</td>\n",
       "      <td>149.99</td>\n",
       "      <td>2019-12-22 15:13:00</td>\n",
       "      <td>410 6th St, San Francisco, CA 94016</td>\n",
       "      <td>12</td>\n",
       "      <td>149.99</td>\n",
       "      <td>San Francisco</td>\n",
       "      <td>15</td>\n",
       "    </tr>\n",
       "    <tr>\n",
       "      <th>4</th>\n",
       "      <td>4</td>\n",
       "      <td>295669</td>\n",
       "      <td>USB-C Charging Cable</td>\n",
       "      <td>1</td>\n",
       "      <td>11.95</td>\n",
       "      <td>2019-12-18 12:38:00</td>\n",
       "      <td>43 Hill St, Atlanta, GA 30301</td>\n",
       "      <td>12</td>\n",
       "      <td>11.95</td>\n",
       "      <td>Atlanta</td>\n",
       "      <td>12</td>\n",
       "    </tr>\n",
       "  </tbody>\n",
       "</table>\n",
       "</div>"
      ],
      "text/plain": [
       "   Unnamed: 0  Order ID               Product  Quantity Ordered  Price Each  \\\n",
       "0           0    295665    Macbook Pro Laptop                 1     1700.00   \n",
       "1           1    295666    LG Washing Machine                 1      600.00   \n",
       "2           2    295667  USB-C Charging Cable                 1       11.95   \n",
       "3           3    295668      27in FHD Monitor                 1      149.99   \n",
       "4           4    295669  USB-C Charging Cable                 1       11.95   \n",
       "\n",
       "            Order Date                        Purchase Address  Month  \\\n",
       "0  2019-12-30 00:01:00  136 Church St, New York City, NY 10001     12   \n",
       "1  2019-12-29 07:03:00     562 2nd St, New York City, NY 10001     12   \n",
       "2  2019-12-12 18:21:00    277 Main St, New York City, NY 10001     12   \n",
       "3  2019-12-22 15:13:00     410 6th St, San Francisco, CA 94016     12   \n",
       "4  2019-12-18 12:38:00           43 Hill St, Atlanta, GA 30301     12   \n",
       "\n",
       "     Sales            City  Hour  \n",
       "0  1700.00   New York City     0  \n",
       "1   600.00   New York City     7  \n",
       "2    11.95   New York City    18  \n",
       "3   149.99   San Francisco    15  \n",
       "4    11.95         Atlanta    12  "
      ]
     },
     "execution_count": 3,
     "metadata": {},
     "output_type": "execute_result"
    }
   ],
   "source": [
    "df.head()"
   ]
  },
  {
   "cell_type": "markdown",
   "id": "b87810b2-415a-4119-9bf4-758089f8fef4",
   "metadata": {},
   "source": [
    "## Sales Analysis"
   ]
  },
  {
   "cell_type": "code",
   "execution_count": 4,
   "id": "7e145afa-c623-4849-a939-9a1e0fdb5814",
   "metadata": {},
   "outputs": [
    {
     "name": "stdout",
     "output_type": "stream",
     "text": [
      "Total Sales: 34492035.97\n"
     ]
    }
   ],
   "source": [
    "# Calculate the total sales across all orders\n",
    "total_sales = df['Sales'].sum()\n",
    "print(f\"Total Sales: {total_sales}\")"
   ]
  },
  {
   "cell_type": "code",
   "execution_count": 5,
   "id": "a7ee2545-019e-4dda-bd78-193f0fa563f3",
   "metadata": {},
   "outputs": [
    {
     "name": "stdout",
     "output_type": "stream",
     "text": [
      "Product\n",
      "Macbook Pro Laptop            8037600.00\n",
      "iPhone                        4794300.00\n",
      "ThinkPad Laptop               4129958.70\n",
      "Google Phone                  3319200.00\n",
      "27in 4K Gaming Monitor        2435097.56\n",
      "34in Ultrawide Monitor        2355558.01\n",
      "Apple Airpods Headphones      2349150.00\n",
      "Flatscreen TV                 1445700.00\n",
      "Bose SoundSport Headphones    1345565.43\n",
      "27in FHD Monitor              1132424.50\n",
      "Vareebadd Phone                827200.00\n",
      "20in Monitor                   454148.71\n",
      "LG Washing Machine             399600.00\n",
      "LG Dryer                       387600.00\n",
      "Lightning Charging Cable       347094.15\n",
      "USB-C Charging Cable           286501.25\n",
      "Wired Headphones               246478.43\n",
      "AA Batteries (4-pack)          106118.40\n",
      "AAA Batteries (4-pack)          92740.83\n",
      "Name: Sales, dtype: float64\n"
     ]
    }
   ],
   "source": [
    "# Find out which products are contributing most to sales\n",
    "sales_by_product = df.groupby('Product')['Sales'].sum().sort_values(ascending=False)\n",
    "print(sales_by_product)"
   ]
  },
  {
   "cell_type": "code",
   "execution_count": 6,
   "id": "c997531d-9dd2-479d-a95a-9d6a1a44895e",
   "metadata": {},
   "outputs": [
    {
     "name": "stdout",
     "output_type": "stream",
     "text": [
      "City\n",
      "San Francisco    8262203.91\n",
      "Los Angeles      5452570.80\n",
      "New York City    4664317.43\n",
      "Boston           3661642.01\n",
      "Atlanta          2795498.58\n",
      "Dallas           2767975.40\n",
      "Seattle          2747755.48\n",
      "Portland         2320490.61\n",
      "Austin           1819581.75\n",
      "Name: Sales, dtype: float64\n"
     ]
    }
   ],
   "source": [
    "# Determine which cities are generating the most sales\n",
    "sales_by_city = df.groupby('City')['Sales'].sum().sort_values(ascending=False)\n",
    "print(sales_by_city)"
   ]
  },
  {
   "cell_type": "markdown",
   "id": "84c15fc3-2f88-4466-b98e-10ab177740ce",
   "metadata": {},
   "source": [
    "## Quantity Analysis"
   ]
  },
  {
   "cell_type": "code",
   "execution_count": 7,
   "id": "0f0ddb39-1ebe-477c-8963-724b5ef214df",
   "metadata": {},
   "outputs": [
    {
     "name": "stdout",
     "output_type": "stream",
     "text": [
      "Total Quantity Ordered: 209079\n"
     ]
    }
   ],
   "source": [
    "# Calculate the total number of items sold\n",
    "total_quantity = df['Quantity Ordered'].sum()\n",
    "print(f\"Total Quantity Ordered: {total_quantity}\")"
   ]
  },
  {
   "cell_type": "code",
   "execution_count": 8,
   "id": "58752ed6-ed15-4cb3-85b8-0b74a2f7863a",
   "metadata": {},
   "outputs": [
    {
     "name": "stdout",
     "output_type": "stream",
     "text": [
      "Product\n",
      "AAA Batteries (4-pack)        31017\n",
      "AA Batteries (4-pack)         27635\n",
      "USB-C Charging Cable          23975\n",
      "Lightning Charging Cable      23217\n",
      "Wired Headphones              20557\n",
      "Apple Airpods Headphones      15661\n",
      "Bose SoundSport Headphones    13457\n",
      "27in FHD Monitor               7550\n",
      "iPhone                         6849\n",
      "27in 4K Gaming Monitor         6244\n",
      "34in Ultrawide Monitor         6199\n",
      "Google Phone                   5532\n",
      "Flatscreen TV                  4819\n",
      "Macbook Pro Laptop             4728\n",
      "ThinkPad Laptop                4130\n",
      "20in Monitor                   4129\n",
      "Vareebadd Phone                2068\n",
      "LG Washing Machine              666\n",
      "LG Dryer                        646\n",
      "Name: Quantity Ordered, dtype: int64\n"
     ]
    }
   ],
   "source": [
    "# Find out which products are being ordered the most.\n",
    "quantity_by_product = df.groupby('Product')['Quantity Ordered'].sum().sort_values(ascending=False)\n",
    "print(quantity_by_product)"
   ]
  },
  {
   "cell_type": "markdown",
   "id": "61adc13d-cdfa-466f-8ba6-933a64ee80e2",
   "metadata": {},
   "source": [
    "## Time-Based Analysis"
   ]
  },
  {
   "cell_type": "code",
   "execution_count": 9,
   "id": "a910b161-1b02-4007-8421-515a1b750953",
   "metadata": {},
   "outputs": [
    {
     "name": "stdout",
     "output_type": "stream",
     "text": [
      "Hour\n",
      "19    2412938.54\n",
      "12    2316821.34\n",
      "11    2300610.24\n",
      "20    2281716.24\n",
      "18    2219348.30\n",
      "13    2155389.80\n",
      "17    2129361.61\n",
      "14    2083672.73\n",
      "21    2042000.86\n",
      "10    1944286.77\n",
      "Name: Sales, dtype: float64\n"
     ]
    }
   ],
   "source": [
    "# Analyze which hours of the day have the highest sales\n",
    "sales_by_hour = df.groupby('Hour')['Sales'].sum().sort_values(ascending=False).head(10)\n",
    "print(sales_by_hour)"
   ]
  },
  {
   "cell_type": "code",
   "execution_count": 10,
   "id": "948c93d5-2059-4fe6-ab76-aacd1afd4a49",
   "metadata": {},
   "outputs": [
    {
     "name": "stdout",
     "output_type": "stream",
     "text": [
      "Month\n",
      "12    4613443.34\n",
      "10    3736726.88\n",
      "4     3390670.24\n",
      "11    3199603.20\n",
      "5     3152606.75\n",
      "3     2807100.38\n",
      "7     2647775.76\n",
      "6     2577802.26\n",
      "8     2244467.88\n",
      "2     2202022.42\n",
      "9     2097560.13\n",
      "1     1822256.73\n",
      "Name: Sales, dtype: float64\n"
     ]
    }
   ],
   "source": [
    "# Check how sales vary across months\n",
    "sales_by_month = df.groupby('Month')['Sales'].sum().sort_values(ascending=False)\n",
    "print(sales_by_month)"
   ]
  },
  {
   "cell_type": "markdown",
   "id": "646b3130-bc8b-4c12-9505-600f12590c18",
   "metadata": {},
   "source": [
    "## Customer Behavior Analysis"
   ]
  },
  {
   "cell_type": "code",
   "execution_count": 11,
   "id": "ffa0c2e9-6f7b-41fe-a933-df972afc203b",
   "metadata": {},
   "outputs": [
    {
     "name": "stdout",
     "output_type": "stream",
     "text": [
      "Average Order Value (AOV): 185.490916751815\n"
     ]
    }
   ],
   "source": [
    "# Calculate the average amount spent per order\n",
    "aov = df['Sales'].mean()\n",
    "print(f\"Average Order Value (AOV): {aov}\")"
   ]
  },
  {
   "cell_type": "markdown",
   "id": "894fda7c-3d23-4b1f-9e12-08ebcf0e40f1",
   "metadata": {},
   "source": [
    "## Product Performance"
   ]
  },
  {
   "cell_type": "code",
   "execution_count": 12,
   "id": "14bae154-c938-4c60-be3f-64b0468e9760",
   "metadata": {},
   "outputs": [
    {
     "name": "stdout",
     "output_type": "stream",
     "text": [
      "Product\n",
      "Macbook Pro Laptop            8037600.00\n",
      "iPhone                        4794300.00\n",
      "ThinkPad Laptop               4129958.70\n",
      "Google Phone                  3319200.00\n",
      "27in 4K Gaming Monitor        2435097.56\n",
      "34in Ultrawide Monitor        2355558.01\n",
      "Apple Airpods Headphones      2349150.00\n",
      "Flatscreen TV                 1445700.00\n",
      "Bose SoundSport Headphones    1345565.43\n",
      "27in FHD Monitor              1132424.50\n",
      "Name: Sales, dtype: float64\n"
     ]
    }
   ],
   "source": [
    "# Identify the top 10 products based on total sales\n",
    "top_products = df.groupby('Product')['Sales'].sum().nlargest(10)\n",
    "print(top_products)"
   ]
  },
  {
   "cell_type": "markdown",
   "id": "556b96a8-02fb-4d3e-8714-e1905eba1919",
   "metadata": {},
   "source": [
    "## Order Trends"
   ]
  },
  {
   "cell_type": "code",
   "execution_count": 13,
   "id": "5ffa353e-3e28-4e05-b7ab-51644440ec97",
   "metadata": {},
   "outputs": [
    {
     "data": {
      "text/plain": [
       "<Axes: xlabel='Order Date'>"
      ]
     },
     "execution_count": 13,
     "metadata": {},
     "output_type": "execute_result"
    },
    {
     "data": {
      "image/png": "[encoded data removed]",
      "text/plain": [
       "<Figure size 640x480 with 1 Axes>"
      ]
     },
     "metadata": {},
     "output_type": "display_data"
    }
   ],
   "source": [
    "# Plot the trend of orders over time to identify seasonal spikes or drops\n",
    "df['Order Date'] = pd.to_datetime(df['Order Date'])\n",
    "orders_by_date = df.groupby(df['Order Date'].dt.date)['Sales'].sum()\n",
    "orders_by_date.plot(kind='line')"
   ]
  },
  {
   "cell_type": "markdown",
   "id": "d81abd34-7944-44c5-b714-d7f7376f6dac",
   "metadata": {},
   "source": [
    "## Top Product By City"
   ]
  },
  {
   "cell_type": "code",
   "execution_count": 14,
   "id": "65e64532-cd8b-4689-9a34-b4189ca158ac",
   "metadata": {},
   "outputs": [
    {
     "name": "stdout",
     "output_type": "stream",
     "text": [
      "             City             Product      Sales\n",
      "0         Atlanta  Macbook Pro Laptop   644300.0\n",
      "1          Austin  Macbook Pro Laptop   426700.0\n",
      "2          Boston  Macbook Pro Laptop   814300.0\n",
      "3          Dallas  Macbook Pro Laptop   649400.0\n",
      "4     Los Angeles  Macbook Pro Laptop  1276700.0\n",
      "5   New York City  Macbook Pro Laptop  1116900.0\n",
      "6        Portland  Macbook Pro Laptop   572900.0\n",
      "7   San Francisco  Macbook Pro Laptop  1931200.0\n",
      "8         Seattle  Macbook Pro Laptop   605200.0\n"
     ]
    }
   ],
   "source": [
    "# Top product by city\n",
    "# Group the data by 'City' and 'Product', and sum the sales\n",
    "top_product_per_city = df.groupby(['City', 'Product'])['Sales'].sum()\n",
    "\n",
    "# Sort the sales within each city in descending order and take the top product for each city\n",
    "top_product_per_city = top_product_per_city.groupby('City', group_keys=False).nlargest(1)\n",
    "\n",
    "# Reset index\n",
    "top_product_per_city = top_product_per_city.reset_index()\n",
    "\n",
    "# Display the top product in each city\n",
    "print(top_product_per_city)"
   ]
  },
  {
   "cell_type": "markdown",
   "id": "032324e6-250d-4de6-93dd-903bed6d59fd",
   "metadata": {},
   "source": [
    "# Predictive model"
   ]
  },
  {
   "cell_type": "markdown",
   "id": "4bbb43cc-203a-4152-9872-7f26fcf8ec6c",
   "metadata": {},
   "source": [
    "## Data Preparation & Model Training"
   ]
  },
  {
   "cell_type": "code",
   "execution_count": 15,
   "id": "d7fb27aa-55d4-421f-b84c-4f13ec7626e7",
   "metadata": {},
   "outputs": [
    {
     "data": {
      "text/html": [
       "<style>#sk-container-id-1 {\n",
       "  /* Definition of color scheme common for light and dark mode */\n",
       "  --sklearn-color-text: #000;\n",
       "  --sklearn-color-text-muted: #666;\n",
       "  --sklearn-color-line: gray;\n",
       "  /* Definition of color scheme for unfitted estimators */\n",
       "  --sklearn-color-unfitted-level-0: #fff5e6;\n",
       "  --sklearn-color-unfitted-level-1: #f6e4d2;\n",
       "  --sklearn-color-unfitted-level-2: #ffe0b3;\n",
       "  --sklearn-color-unfitted-level-3: chocolate;\n",
       "  /* Definition of color scheme for fitted estimators */\n",
       "  --sklearn-color-fitted-level-0: #f0f8ff;\n",
       "  --sklearn-color-fitted-level-1: #d4ebff;\n",
       "  --sklearn-color-fitted-level-2: #b3dbfd;\n",
       "  --sklearn-color-fitted-level-3: cornflowerblue;\n",
       "\n",
       "  /* Specific color for light theme */\n",
       "  --sklearn-color-text-on-default-background: var(--sg-text-color, var(--theme-code-foreground, var(--jp-content-font-color1, black)));\n",
       "  --sklearn-color-background: var(--sg-background-color, var(--theme-background, var(--jp-layout-color0, white)));\n",
       "  --sklearn-color-border-box: var(--sg-text-color, var(--theme-code-foreground, var(--jp-content-font-color1, black)));\n",
       "  --sklearn-color-icon: #696969;\n",
       "\n",
       "  @media (prefers-color-scheme: dark) {\n",
       "    /* Redefinition of color scheme for dark theme */\n",
       "    --sklearn-color-text-on-default-background: var(--sg-text-color, var(--theme-code-foreground, var(--jp-content-font-color1, white)));\n",
       "    --sklearn-color-background: var(--sg-background-color, var(--theme-background, var(--jp-layout-color0, #111)));\n",
       "    --sklearn-color-border-box: var(--sg-text-color, var(--theme-code-foreground, var(--jp-content-font-color1, white)));\n",
       "    --sklearn-color-icon: #878787;\n",
       "  }\n",
       "}\n",
       "\n",
       "#sk-container-id-1 {\n",
       "  color: var(--sklearn-color-text);\n",
       "}\n",
       "\n",
       "#sk-container-id-1 pre {\n",
       "  padding: 0;\n",
       "}\n",
       "\n",
       "#sk-container-id-1 input.sk-hidden--visually {\n",
       "  border: 0;\n",
       "  clip: rect(1px 1px 1px 1px);\n",
       "  clip: rect(1px, 1px, 1px, 1px);\n",
       "  height: 1px;\n",
       "  margin: -1px;\n",
       "  overflow: hidden;\n",
       "  padding: 0;\n",
       "  position: absolute;\n",
       "  width: 1px;\n",
       "}\n",
       "\n",
       "#sk-container-id-1 div.sk-dashed-wrapped {\n",
       "  border: 1px dashed var(--sklearn-color-line);\n",
       "  margin: 0 0.4em 0.5em 0.4em;\n",
       "  box-sizing: border-box;\n",
       "  padding-bottom: 0.4em;\n",
       "  background-color: var(--sklearn-color-background);\n",
       "}\n",
       "\n",
       "#sk-container-id-1 div.sk-container {\n",
       "  /* jupyter's `normalize.less` sets `[hidden] { display: none; }`\n",
       "     but bootstrap.min.css set `[hidden] { display: none !important; }`\n",
       "     so we also need the `!important` here to be able to override the\n",
       "     default hidden behavior on the sphinx rendered scikit-learn.org.\n",
       "     See: https://github.com/scikit-learn/scikit-learn/issues/21755 */\n",
       "  display: inline-block !important;\n",
       "  position: relative;\n",
       "}\n",
       "\n",
       "#sk-container-id-1 div.sk-text-repr-fallback {\n",
       "  display: none;\n",
       "}\n",
       "\n",
       "div.sk-parallel-item,\n",
       "div.sk-serial,\n",
       "div.sk-item {\n",
       "  /* draw centered vertical line to link estimators */\n",
       "  background-image: linear-gradient(var(--sklearn-color-text-on-default-background), var(--sklearn-color-text-on-default-background));\n",
       "  background-size: 2px 100%;\n",
       "  background-repeat: no-repeat;\n",
       "  background-position: center center;\n",
       "}\n",
       "\n",
       "/* Parallel-specific style estimator block */\n",
       "\n",
       "#sk-container-id-1 div.sk-parallel-item::after {\n",
       "  content: \"\";\n",
       "  width: 100%;\n",
       "  border-bottom: 2px solid var(--sklearn-color-text-on-default-background);\n",
       "  flex-grow: 1;\n",
       "}\n",
       "\n",
       "#sk-container-id-1 div.sk-parallel {\n",
       "  display: flex;\n",
       "  align-items: stretch;\n",
       "  justify-content: center;\n",
       "  background-color: var(--sklearn-color-background);\n",
       "  position: relative;\n",
       "}\n",
       "\n",
       "#sk-container-id-1 div.sk-parallel-item {\n",
       "  display: flex;\n",
       "  flex-direction: column;\n",
       "}\n",
       "\n",
       "#sk-container-id-1 div.sk-parallel-item:first-child::after {\n",
       "  align-self: flex-end;\n",
       "  width: 50%;\n",
       "}\n",
       "\n",
       "#sk-container-id-1 div.sk-parallel-item:last-child::after {\n",
       "  align-self: flex-start;\n",
       "  width: 50%;\n",
       "}\n",
       "\n",
       "#sk-container-id-1 div.sk-parallel-item:only-child::after {\n",
       "  width: 0;\n",
       "}\n",
       "\n",
       "/* Serial-specific style estimator block */\n",
       "\n",
       "#sk-container-id-1 div.sk-serial {\n",
       "  display: flex;\n",
       "  flex-direction: column;\n",
       "  align-items: center;\n",
       "  background-color: var(--sklearn-color-background);\n",
       "  padding-right: 1em;\n",
       "  padding-left: 1em;\n",
       "}\n",
       "\n",
       "\n",
       "/* Toggleable style: style used for estimator/Pipeline/ColumnTransformer box that is\n",
       "clickable and can be expanded/collapsed.\n",
       "- Pipeline and ColumnTransformer use this feature and define the default style\n",
       "- Estimators will overwrite some part of the style using the `sk-estimator` class\n",
       "*/\n",
       "\n",
       "/* Pipeline and ColumnTransformer style (default) */\n",
       "\n",
       "#sk-container-id-1 div.sk-toggleable {\n",
       "  /* Default theme specific background. It is overwritten whether we have a\n",
       "  specific estimator or a Pipeline/ColumnTransformer */\n",
       "  background-color: var(--sklearn-color-background);\n",
       "}\n",
       "\n",
       "/* Toggleable label */\n",
       "#sk-container-id-1 label.sk-toggleable__label {\n",
       "  cursor: pointer;\n",
       "  display: flex;\n",
       "  width: 100%;\n",
       "  margin-bottom: 0;\n",
       "  padding: 0.5em;\n",
       "  box-sizing: border-box;\n",
       "  text-align: center;\n",
       "  align-items: start;\n",
       "  justify-content: space-between;\n",
       "  gap: 0.5em;\n",
       "}\n",
       "\n",
       "#sk-container-id-1 label.sk-toggleable__label .caption {\n",
       "  font-size: 0.6rem;\n",
       "  font-weight: lighter;\n",
       "  color: var(--sklearn-color-text-muted);\n",
       "}\n",
       "\n",
       "#sk-container-id-1 label.sk-toggleable__label-arrow:before {\n",
       "  /* Arrow on the left of the label */\n",
       "  content: \"▸\";\n",
       "  float: left;\n",
       "  margin-right: 0.25em;\n",
       "  color: var(--sklearn-color-icon);\n",
       "}\n",
       "\n",
       "#sk-container-id-1 label.sk-toggleable__label-arrow:hover:before {\n",
       "  color: var(--sklearn-color-text);\n",
       "}\n",
       "\n",
       "/* Toggleable content - dropdown */\n",
       "\n",
       "#sk-container-id-1 div.sk-toggleable__content {\n",
       "  max-height: 0;\n",
       "  max-width: 0;\n",
       "  overflow: hidden;\n",
       "  text-align: left;\n",
       "  /* unfitted */\n",
       "  background-color: var(--sklearn-color-unfitted-level-0);\n",
       "}\n",
       "\n",
       "#sk-container-id-1 div.sk-toggleable__content.fitted {\n",
       "  /* fitted */\n",
       "  background-color: var(--sklearn-color-fitted-level-0);\n",
       "}\n",
       "\n",
       "#sk-container-id-1 div.sk-toggleable__content pre {\n",
       "  margin: 0.2em;\n",
       "  border-radius: 0.25em;\n",
       "  color: var(--sklearn-color-text);\n",
       "  /* unfitted */\n",
       "  background-color: var(--sklearn-color-unfitted-level-0);\n",
       "}\n",
       "\n",
       "#sk-container-id-1 div.sk-toggleable__content.fitted pre {\n",
       "  /* unfitted */\n",
       "  background-color: var(--sklearn-color-fitted-level-0);\n",
       "}\n",
       "\n",
       "#sk-container-id-1 input.sk-toggleable__control:checked~div.sk-toggleable__content {\n",
       "  /* Expand drop-down */\n",
       "  max-height: 200px;\n",
       "  max-width: 100%;\n",
       "  overflow: auto;\n",
       "}\n",
       "\n",
       "#sk-container-id-1 input.sk-toggleable__control:checked~label.sk-toggleable__label-arrow:before {\n",
       "  content: \"▾\";\n",
       "}\n",
       "\n",
       "/* Pipeline/ColumnTransformer-specific style */\n",
       "\n",
       "#sk-container-id-1 div.sk-label input.sk-toggleable__control:checked~label.sk-toggleable__label {\n",
       "  color: var(--sklearn-color-text);\n",
       "  background-color: var(--sklearn-color-unfitted-level-2);\n",
       "}\n",
       "\n",
       "#sk-container-id-1 div.sk-label.fitted input.sk-toggleable__control:checked~label.sk-toggleable__label {\n",
       "  background-color: var(--sklearn-color-fitted-level-2);\n",
       "}\n",
       "\n",
       "/* Estimator-specific style */\n",
       "\n",
       "/* Colorize estimator box */\n",
       "#sk-container-id-1 div.sk-estimator input.sk-toggleable__control:checked~label.sk-toggleable__label {\n",
       "  /* unfitted */\n",
       "  background-color: var(--sklearn-color-unfitted-level-2);\n",
       "}\n",
       "\n",
       "#sk-container-id-1 div.sk-estimator.fitted input.sk-toggleable__control:checked~label.sk-toggleable__label {\n",
       "  /* fitted */\n",
       "  background-color: var(--sklearn-color-fitted-level-2);\n",
       "}\n",
       "\n",
       "#sk-container-id-1 div.sk-label label.sk-toggleable__label,\n",
       "#sk-container-id-1 div.sk-label label {\n",
       "  /* The background is the default theme color */\n",
       "  color: var(--sklearn-color-text-on-default-background);\n",
       "}\n",
       "\n",
       "/* On hover, darken the color of the background */\n",
       "#sk-container-id-1 div.sk-label:hover label.sk-toggleable__label {\n",
       "  color: var(--sklearn-color-text);\n",
       "  background-color: var(--sklearn-color-unfitted-level-2);\n",
       "}\n",
       "\n",
       "/* Label box, darken color on hover, fitted */\n",
       "#sk-container-id-1 div.sk-label.fitted:hover label.sk-toggleable__label.fitted {\n",
       "  color: var(--sklearn-color-text);\n",
       "  background-color: var(--sklearn-color-fitted-level-2);\n",
       "}\n",
       "\n",
       "/* Estimator label */\n",
       "\n",
       "#sk-container-id-1 div.sk-label label {\n",
       "  font-family: monospace;\n",
       "  font-weight: bold;\n",
       "  display: inline-block;\n",
       "  line-height: 1.2em;\n",
       "}\n",
       "\n",
       "#sk-container-id-1 div.sk-label-container {\n",
       "  text-align: center;\n",
       "}\n",
       "\n",
       "/* Estimator-specific */\n",
       "#sk-container-id-1 div.sk-estimator {\n",
       "  font-family: monospace;\n",
       "  border: 1px dotted var(--sklearn-color-border-box);\n",
       "  border-radius: 0.25em;\n",
       "  box-sizing: border-box;\n",
       "  margin-bottom: 0.5em;\n",
       "  /* unfitted */\n",
       "  background-color: var(--sklearn-color-unfitted-level-0);\n",
       "}\n",
       "\n",
       "#sk-container-id-1 div.sk-estimator.fitted {\n",
       "  /* fitted */\n",
       "  background-color: var(--sklearn-color-fitted-level-0);\n",
       "}\n",
       "\n",
       "/* on hover */\n",
       "#sk-container-id-1 div.sk-estimator:hover {\n",
       "  /* unfitted */\n",
       "  background-color: var(--sklearn-color-unfitted-level-2);\n",
       "}\n",
       "\n",
       "#sk-container-id-1 div.sk-estimator.fitted:hover {\n",
       "  /* fitted */\n",
       "  background-color: var(--sklearn-color-fitted-level-2);\n",
       "}\n",
       "\n",
       "/* Specification for estimator info (e.g. \"i\" and \"?\") */\n",
       "\n",
       "/* Common style for \"i\" and \"?\" */\n",
       "\n",
       ".sk-estimator-doc-link,\n",
       "a:link.sk-estimator-doc-link,\n",
       "a:visited.sk-estimator-doc-link {\n",
       "  float: right;\n",
       "  font-size: smaller;\n",
       "  line-height: 1em;\n",
       "  font-family: monospace;\n",
       "  background-color: var(--sklearn-color-background);\n",
       "  border-radius: 1em;\n",
       "  height: 1em;\n",
       "  width: 1em;\n",
       "  text-decoration: none !important;\n",
       "  margin-left: 0.5em;\n",
       "  text-align: center;\n",
       "  /* unfitted */\n",
       "  border: var(--sklearn-color-unfitted-level-1) 1pt solid;\n",
       "  color: var(--sklearn-color-unfitted-level-1);\n",
       "}\n",
       "\n",
       ".sk-estimator-doc-link.fitted,\n",
       "a:link.sk-estimator-doc-link.fitted,\n",
       "a:visited.sk-estimator-doc-link.fitted {\n",
       "  /* fitted */\n",
       "  border: var(--sklearn-color-fitted-level-1) 1pt solid;\n",
       "  color: var(--sklearn-color-fitted-level-1);\n",
       "}\n",
       "\n",
       "/* On hover */\n",
       "div.sk-estimator:hover .sk-estimator-doc-link:hover,\n",
       ".sk-estimator-doc-link:hover,\n",
       "div.sk-label-container:hover .sk-estimator-doc-link:hover,\n",
       ".sk-estimator-doc-link:hover {\n",
       "  /* unfitted */\n",
       "  background-color: var(--sklearn-color-unfitted-level-3);\n",
       "  color: var(--sklearn-color-background);\n",
       "  text-decoration: none;\n",
       "}\n",
       "\n",
       "div.sk-estimator.fitted:hover .sk-estimator-doc-link.fitted:hover,\n",
       ".sk-estimator-doc-link.fitted:hover,\n",
       "div.sk-label-container:hover .sk-estimator-doc-link.fitted:hover,\n",
       ".sk-estimator-doc-link.fitted:hover {\n",
       "  /* fitted */\n",
       "  background-color: var(--sklearn-color-fitted-level-3);\n",
       "  color: var(--sklearn-color-background);\n",
       "  text-decoration: none;\n",
       "}\n",
       "\n",
       "/* Span, style for the box shown on hovering the info icon */\n",
       ".sk-estimator-doc-link span {\n",
       "  display: none;\n",
       "  z-index: 9999;\n",
       "  position: relative;\n",
       "  font-weight: normal;\n",
       "  right: .2ex;\n",
       "  padding: .5ex;\n",
       "  margin: .5ex;\n",
       "  width: min-content;\n",
       "  min-width: 20ex;\n",
       "  max-width: 50ex;\n",
       "  color: var(--sklearn-color-text);\n",
       "  box-shadow: 2pt 2pt 4pt #999;\n",
       "  /* unfitted */\n",
       "  background: var(--sklearn-color-unfitted-level-0);\n",
       "  border: .5pt solid var(--sklearn-color-unfitted-level-3);\n",
       "}\n",
       "\n",
       ".sk-estimator-doc-link.fitted span {\n",
       "  /* fitted */\n",
       "  background: var(--sklearn-color-fitted-level-0);\n",
       "  border: var(--sklearn-color-fitted-level-3);\n",
       "}\n",
       "\n",
       ".sk-estimator-doc-link:hover span {\n",
       "  display: block;\n",
       "}\n",
       "\n",
       "/* \"?\"-specific style due to the `<a>` HTML tag */\n",
       "\n",
       "#sk-container-id-1 a.estimator_doc_link {\n",
       "  float: right;\n",
       "  font-size: 1rem;\n",
       "  line-height: 1em;\n",
       "  font-family: monospace;\n",
       "  background-color: var(--sklearn-color-background);\n",
       "  border-radius: 1rem;\n",
       "  height: 1rem;\n",
       "  width: 1rem;\n",
       "  text-decoration: none;\n",
       "  /* unfitted */\n",
       "  color: var(--sklearn-color-unfitted-level-1);\n",
       "  border: var(--sklearn-color-unfitted-level-1) 1pt solid;\n",
       "}\n",
       "\n",
       "#sk-container-id-1 a.estimator_doc_link.fitted {\n",
       "  /* fitted */\n",
       "  border: var(--sklearn-color-fitted-level-1) 1pt solid;\n",
       "  color: var(--sklearn-color-fitted-level-1);\n",
       "}\n",
       "\n",
       "/* On hover */\n",
       "#sk-container-id-1 a.estimator_doc_link:hover {\n",
       "  /* unfitted */\n",
       "  background-color: var(--sklearn-color-unfitted-level-3);\n",
       "  color: var(--sklearn-color-background);\n",
       "  text-decoration: none;\n",
       "}\n",
       "\n",
       "#sk-container-id-1 a.estimator_doc_link.fitted:hover {\n",
       "  /* fitted */\n",
       "  background-color: var(--sklearn-color-fitted-level-3);\n",
       "}\n",
       "</style><div id=\"sk-container-id-1\" class=\"sk-top-container\"><div class=\"sk-text-repr-fallback\"><pre>RandomForestRegressor(random_state=42)</pre><b>In a Jupyter environment, please rerun this cell to show the HTML representation or trust the notebook. <br />On GitHub, the HTML representation is unable to render, please try loading this page with nbviewer.org.</b></div><div class=\"sk-container\" hidden><div class=\"sk-item\"><div class=\"sk-estimator fitted sk-toggleable\"><input class=\"sk-toggleable__control sk-hidden--visually\" id=\"sk-estimator-id-1\" type=\"checkbox\" checked><label for=\"sk-estimator-id-1\" class=\"sk-toggleable__label fitted sk-toggleable__label-arrow\"><div><div>RandomForestRegressor</div></div><div><a class=\"sk-estimator-doc-link fitted\" rel=\"noreferrer\" target=\"_blank\" href=\"https://scikit-learn.org/1.6/modules/generated/sklearn.ensemble.RandomForestRegressor.html\">?<span>Documentation for RandomForestRegressor</span></a><span class=\"sk-estimator-doc-link fitted\">i<span>Fitted</span></span></div></label><div class=\"sk-toggleable__content fitted\"><pre>RandomForestRegressor(random_state=42)</pre></div> </div></div></div></div>"
      ],
      "text/plain": [
       "RandomForestRegressor(random_state=42)"
      ]
     },
     "execution_count": 15,
     "metadata": {},
     "output_type": "execute_result"
    }
   ],
   "source": [
    "from sklearn.model_selection import train_test_split\n",
    "from sklearn.ensemble import RandomForestRegressor\n",
    "\n",
    "# Preprocessing (handling missing values, converting categorical variables, etc.)\n",
    "df['Order Date'] = pd.to_datetime(df['Order Date'])\n",
    "df['Month'] = df['Order Date'].dt.month\n",
    "df['Hour'] = df['Order Date'].dt.hour\n",
    "\n",
    "# Features (X) and target (y)\n",
    "X = df[['Quantity Ordered', 'Price Each', 'Month', 'Hour']]  # Features\n",
    "y = df['Sales']  # Target\n",
    "\n",
    "# Split data into training and test sets\n",
    "X_train, X_test, y_train, y_test = train_test_split(X, y, test_size=0.3, random_state=42)\n",
    "\n",
    "# Instantiate the model\n",
    "model = RandomForestRegressor(random_state=42)\n",
    "\n",
    "# Train the model\n",
    "model.fit(X_train, y_train)"
   ]
  },
  {
   "cell_type": "markdown",
   "id": "2693bbdf-9b54-4aa0-8c36-e78bbbdc9aa8",
   "metadata": {},
   "source": [
    "## Model Evaluation"
   ]
  },
  {
   "cell_type": "code",
   "execution_count": 16,
   "id": "64b58de5-e538-49ab-8aef-c7dbf094dc20",
   "metadata": {},
   "outputs": [
    {
     "name": "stdout",
     "output_type": "stream",
     "text": [
      "Mean Squared Error: 0.5946209638209196\n",
      "R-squared: 0.9999946750789377\n"
     ]
    }
   ],
   "source": [
    "# Predict on the test set\n",
    "y_pred = model.predict(X_test)\n",
    "\n",
    "# Evaluate performance (Mean Squared Error)\n",
    "from sklearn.metrics import mean_squared_error\n",
    "mse = mean_squared_error(y_test, y_pred)\n",
    "print(f\"Mean Squared Error: {mse}\")\n",
    "\n",
    "r_squared = model.score(X_test, y_test)\n",
    "print(f\"R-squared: {r_squared}\")\n"
   ]
  },
  {
   "cell_type": "markdown",
   "id": "ec81da7d-2e07-4630-8cdb-ef8fb7b468fb",
   "metadata": {},
   "source": [
    "## Make prediction"
   ]
  },
  {
   "cell_type": "code",
   "execution_count": 17,
   "id": "698770c2-f5aa-48df-8fc7-c2a189119ccb",
   "metadata": {},
   "outputs": [
    {
     "name": "stdout",
     "output_type": "stream",
     "text": [
      "Predicted Sales: 600.0\n"
     ]
    }
   ],
   "source": [
    "#Example of predicting sales for new data\n",
    "new_data = pd.DataFrame({\n",
    "    'Quantity Ordered': [2],\n",
    "    'Price Each': [300],\n",
    "    'Month': [12],\n",
    "    'Hour': [15]\n",
    "})\n",
    "predicted_sales = model.predict(new_data)\n",
    "print(f\"Predicted Sales: {predicted_sales[0]}\")"
   ]
  },
  {
   "cell_type": "markdown",
   "id": "538c4b99-8f00-439f-b86a-d60c941f99fa",
   "metadata": {},
   "source": [
    "## Analyze Feature Importance"
   ]
  },
  {
   "cell_type": "code",
   "execution_count": 18,
   "id": "65a96269-4583-4d9e-9bdd-5c23621c0604",
   "metadata": {},
   "outputs": [
    {
     "data": {
      "image/png": "[encoded data removed]",
      "text/plain": [
       "<Figure size 640x480 with 1 Axes>"
      ]
     },
     "metadata": {},
     "output_type": "display_data"
    }
   ],
   "source": [
    "# Feature importance (which one impacting the sales more)\n",
    "\n",
    "importance = model.feature_importances_\n",
    "features = X.columns\n",
    "\n",
    "# Plot the feature importance\n",
    "plt.barh(features, importance)\n",
    "plt.xlabel('Importance')\n",
    "plt.title('Feature Importance')\n",
    "plt.show()"
   ]
  },
  {
   "cell_type": "markdown",
   "id": "9ee139ed-645c-412d-ac79-decae054ad7f",
   "metadata": {},
   "source": [
    "## What-If Analysis"
   ]
  },
  {
   "cell_type": "code",
   "execution_count": 19,
   "id": "ca518a97-f76c-4e23-bdbc-50a72cada02f",
   "metadata": {},
   "outputs": [
    {
     "name": "stdout",
     "output_type": "stream",
     "text": [
      "   Quantity Ordered  Price Each  Month  Hour  Predicted_Sales\n",
      "0                 1         100     12    10            99.99\n",
      "1                 5         200     12    15           300.00\n",
      "2                10         300     12    20           600.00\n"
     ]
    }
   ],
   "source": [
    "# Simulate different scenarios\n",
    "scenarios = pd.DataFrame({\n",
    "    'Quantity Ordered': [1, 5, 10],\n",
    "    'Price Each': [100, 200, 300],\n",
    "    'Month': [12, 12, 12],\n",
    "    'Hour': [10, 15, 20]\n",
    "})\n",
    "scenario_predictions = model.predict(scenarios)\n",
    "print(scenarios.assign(Predicted_Sales=scenario_predictions))"
   ]
  },
  {
   "cell_type": "code",
   "execution_count": 20,
   "id": "8bb5be8b-cac8-43a9-aaf2-f08000a7f6f5",
   "metadata": {},
   "outputs": [
    {
     "data": {
      "text/plain": [
       "np.float64(999.9899999999981)"
      ]
     },
     "execution_count": 20,
     "metadata": {},
     "output_type": "execute_result"
    }
   ],
   "source": [
    "scenario_predictions.sum()"
   ]
  },
  {
   "cell_type": "markdown",
   "id": "86df92cb-496f-46a3-8fde-f31c4540e1ef",
   "metadata": {},
   "source": [
    "## Segment Customers or Transactions"
   ]
  },
  {
   "cell_type": "code",
   "execution_count": 21,
   "id": "fb33b67b-f7db-4cea-9278-80b9a3e41d1a",
   "metadata": {},
   "outputs": [
    {
     "name": "stdout",
     "output_type": "stream",
     "text": [
      "        Unnamed: 0  Order ID             Product  Quantity Ordered  \\\n",
      "0                0    295665  Macbook Pro Laptop                 1   \n",
      "52              52    295712  Macbook Pro Laptop                 1   \n",
      "57              57    295717  Macbook Pro Laptop                 1   \n",
      "223            223    295871  Macbook Pro Laptop                 1   \n",
      "302            304    295948  Macbook Pro Laptop                 1   \n",
      "...            ...       ...                 ...               ...   \n",
      "185757       13429    222728  Macbook Pro Laptop                 1   \n",
      "185775       13447    222744  Macbook Pro Laptop                 1   \n",
      "185796       13468    222765  Macbook Pro Laptop                 1   \n",
      "185857       13529    222822  Macbook Pro Laptop                 1   \n",
      "185944       13616    222904  Macbook Pro Laptop                 1   \n",
      "\n",
      "        Price Each          Order Date  \\\n",
      "0           1700.0 2019-12-30 00:01:00   \n",
      "52          1700.0 2019-12-10 20:02:00   \n",
      "57          1700.0 2019-12-25 09:51:00   \n",
      "223         1700.0 2019-12-28 11:19:00   \n",
      "302         1700.0 2019-12-17 21:08:00   \n",
      "...            ...                 ...   \n",
      "185757      1700.0 2019-06-13 21:29:00   \n",
      "185775      1700.0 2019-06-11 07:38:00   \n",
      "185796      1700.0 2019-06-14 21:33:00   \n",
      "185857      1700.0 2019-06-17 00:18:00   \n",
      "185944      1700.0 2019-06-09 22:07:00   \n",
      "\n",
      "                               Purchase Address  Month   Sales  \\\n",
      "0        136 Church St, New York City, NY 10001     12  1700.0   \n",
      "52      331 Madison St, New York City, NY 10001     12  1700.0   \n",
      "57          82 10th St, San Francisco, CA 94016     12  1700.0   \n",
      "223               661 Park St, Dallas, TX 75001     12  1700.0   \n",
      "302        863 West St, San Francisco, CA 94016     12  1700.0   \n",
      "...                                         ...    ...     ...   \n",
      "185757      657 River St, Los Angeles, CA 90001      6  1700.0   \n",
      "185775       775 11th St, Los Angeles, CA 90001      6  1700.0   \n",
      "185796           319 6th St, Portland, OR 97035      6  1700.0   \n",
      "185857   393 Willow St, San Francisco, CA 94016      6  1700.0   \n",
      "185944        975 2nd St, Los Angeles, CA 90001      6  1700.0   \n",
      "\n",
      "                  City  Hour  Predicted_Sales  \n",
      "0        New York City     0           1700.0  \n",
      "52       New York City    20           1700.0  \n",
      "57       San Francisco     9           1700.0  \n",
      "223             Dallas    11           1700.0  \n",
      "302      San Francisco    21           1700.0  \n",
      "...                ...   ...              ...  \n",
      "185757     Los Angeles    21           1700.0  \n",
      "185775     Los Angeles     7           1700.0  \n",
      "185796        Portland    21           1700.0  \n",
      "185857   San Francisco     0           1700.0  \n",
      "185944     Los Angeles    22           1700.0  \n",
      "\n",
      "[4740 rows x 12 columns]\n"
     ]
    }
   ],
   "source": [
    "# Add predictions to the original DataFrame\n",
    "df['Predicted_Sales'] = model.predict(X)\n",
    "# Filter high-value transactions\n",
    "high_value_transactions = df[df['Predicted_Sales'] > 1000]\n",
    "print(high_value_transactions)"
   ]
  },
  {
   "cell_type": "markdown",
   "id": "7f6b8e87-14ed-4997-8069-42f8beae6f8d",
   "metadata": {},
   "source": [
    "## Predicting Sales By Month"
   ]
  },
  {
   "cell_type": "code",
   "execution_count": 22,
   "id": "55e7566f-41e4-4a2e-9f93-03b3c1f7e6b8",
   "metadata": {},
   "outputs": [
    {
     "name": "stdout",
     "output_type": "stream",
     "text": [
      "Total Predicted Sales for December: $4613292.08\n"
     ]
    }
   ],
   "source": [
    "# Filter data for December\n",
    "december_data = df[df['Month'] == 12].copy()\n",
    "\n",
    "# Select relevant features for prediction\n",
    "features_for_prediction = december_data[['Quantity Ordered', 'Price Each', 'Month', 'Hour']]\n",
    "\n",
    "# Predict sales for December\n",
    "predicted_sales = model.predict(features_for_prediction)\n",
    "december_data['Predicted Sales'] = predicted_sales\n",
    "\n",
    "# Calculate total predicted sales for December\n",
    "total_predicted_sales = december_data['Predicted Sales'].sum()\n",
    "print(f\"Total Predicted Sales for December: ${total_predicted_sales:.2f}\")"
   ]
  },
  {
   "cell_type": "markdown",
   "id": "897bf73a-5fec-4a9a-bd99-5f71e6cb0450",
   "metadata": {},
   "source": [
    "### Simulate the Impact of Increased Quantity"
   ]
  },
  {
   "cell_type": "code",
   "execution_count": 23,
   "id": "ff0a1784-cd7c-4c44-9968-7161dcf5db3d",
   "metadata": {},
   "outputs": [
    {
     "name": "stdout",
     "output_type": "stream",
     "text": [
      "Predicted Sales with 10% Quantity Increase: $4613341.37\n"
     ]
    }
   ],
   "source": [
    "# Backup the original column\n",
    "december_data['Original Quantity Ordered'] = december_data['Quantity Ordered']\n",
    "\n",
    "# Simulate a 10% increase in quantity ordered\n",
    "december_data['Quantity Ordered'] = december_data['Quantity Ordered'] * 1.1\n",
    "\n",
    "# Predict sales with increased quantity\n",
    "features_with_increase = december_data[['Quantity Ordered', 'Price Each', 'Month', 'Hour']]\n",
    "predicted_sales_with_increase = model.predict(features_with_increase)\n",
    "\n",
    "# Calculate total predicted sales with increase\n",
    "total_sales_with_increase = predicted_sales_with_increase.sum()\n",
    "print(f\"Predicted Sales with 10% Quantity Increase: ${total_sales_with_increase:.2f}\")\n",
    "\n",
    "# Restore the original column\n",
    "december_data['Quantity Ordered'] = december_data['Original Quantity Ordered']\n",
    "del december_data['Original Quantity Ordered']"
   ]
  },
  {
   "cell_type": "code",
   "execution_count": null,
   "id": "fbda4d26-1e35-4caf-855c-6d75cd83101c",
   "metadata": {},
   "outputs": [],
   "source": []
  }
 ],
 "metadata": {
  "kernelspec": {
   "display_name": "Python(venv)",
   "language": "python",
   "name": "venv"
  },
  "language_info": {
   "codemirror_mode": {
    "name": "ipython",
    "version": 3
   },
   "file_extension": ".py",
   "mimetype": "text/x-python",
   "name": "python",
   "nbconvert_exporter": "python",
   "pygments_lexer": "ipython3",
   "version": "3.12.7"
  }
 },
 "nbformat": 4,
 "nbformat_minor": 5
}
